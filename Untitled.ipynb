{
 "cells": [
  {
   "cell_type": "code",
   "execution_count": 3,
   "metadata": {},
   "outputs": [],
   "source": [
    "#Ch. 12\n",
    "#Ex. 8\n",
    "\n",
    "#left off page 176\n",
    "\n",
    "from unit_tester import test\n",
    "import string\n",
    "\n",
    "\n",
    "#Function 1\n",
    "\n",
    "\n",
    "def cleanword(s):\n",
    "    s_without_punct = \"\"\n",
    "    for letter in s:\n",
    "        if letter not in string.punctuation:   #the assignment is automatic from an already created module\n",
    "            s_without_punct += letter #creates a string\n",
    "    split = s_without_punct.split()\n",
    "    return s_without_punct"
   ]
  },
  {
   "cell_type": "code",
   "execution_count": null,
   "metadata": {},
   "outputs": [],
   "source": []
  },
  {
   "cell_type": "code",
   "execution_count": null,
   "metadata": {},
   "outputs": [],
   "source": []
  },
  {
   "cell_type": "code",
   "execution_count": null,
   "metadata": {},
   "outputs": [],
   "source": []
  },
  {
   "cell_type": "code",
   "execution_count": 4,
   "metadata": {},
   "outputs": [
    {
     "name": "stdout",
     "output_type": "stream",
     "text": [
      "Test at line 1 ok.\n",
      "Test at line 2 ok.\n",
      "Test at line 3 ok.\n"
     ]
    }
   ],
   "source": [
    "test(cleanword(\"what?\") == \"what\")\n",
    "test(cleanword(\"'now!'\") == \"now\")\n",
    "test(cleanword(\"?+='w-o-r-d!,@$()'\") == \"word\")\n"
   ]
  },
  {
   "cell_type": "code",
   "execution_count": null,
   "metadata": {},
   "outputs": [],
   "source": []
  },
  {
   "cell_type": "code",
   "execution_count": null,
   "metadata": {},
   "outputs": [],
   "source": []
  }
 ],
 "metadata": {
  "kernelspec": {
   "display_name": "Python 3",
   "language": "python",
   "name": "python3"
  },
  "language_info": {
   "codemirror_mode": {
    "name": "ipython",
    "version": 3
   },
   "file_extension": ".py",
   "mimetype": "text/x-python",
   "name": "python",
   "nbconvert_exporter": "python",
   "pygments_lexer": "ipython3",
   "version": "3.8.3"
  }
 },
 "nbformat": 4,
 "nbformat_minor": 4
}
